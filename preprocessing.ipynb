{
 "cells": [
  {
   "cell_type": "code",
   "execution_count": null,
   "metadata": {},
   "outputs": [],
   "source": [
    "# This code block is to preprocess the input images (reduce the size of the images by 2)\n",
    "\n",
    "import os\n",
    "from PIL import Image\n",
    "import numpy as np\n",
    "\n",
    "\n",
    "input_directory = '/kaggle/input/div2k-x8/DIV2K_train_LR_mild/DIV2K_train_LR_wild'\n",
    "output_directory = '/kaggle/working/div2k-x8/DIV2K_train_LR_wild_new'\n",
    "\n",
    "\n",
    "os.makedirs(output_directory, exist_ok=True)\n",
    "\n",
    "\n",
    "input_files = os.listdir(input_directory)\n",
    "\n",
    "# Define the function to reduce an image by 2\n",
    "def reduce_by_2(img):\n",
    "    # converting image to numpy array\n",
    "    img = np.array(img)\n",
    "    # getting the shape of image\n",
    "    shape = img.shape\n",
    "    # creating a new array of half the size of original image\n",
    "    new_img = np.zeros((shape[0]//2, shape[1]//2, shape[2]))\n",
    "    # iterating through the new array and assigning the median value of 4 pixels to 1 pixel\n",
    "    for i in range(new_img.shape[0]):\n",
    "        for j in range(new_img.shape[1]):\n",
    "            for k in range(new_img.shape[2]):\n",
    "                new_img[i][j][k] = np.median(img[2*i:2*i+2, 2*j:2*j+2, k])\n",
    "    # converting the array to image\n",
    "    new_img = Image.fromarray(new_img.astype('uint8'))\n",
    "    return new_img\n",
    "\n",
    "# Process and save all images in the input directory\n",
    "for filename in input_files:\n",
    "    if filename.endswith('.png') or filename.endswith('.jpg'):  # Adjust file extensions as needed\n",
    "        file_path = os.path.join(input_directory, filename)\n",
    "        \n",
    "        # Open the image\n",
    "        img = Image.open(file_path)\n",
    "        \n",
    "        # Apply the reduce_by_2 function\n",
    "        reduced_img = reduce_by_2(img)\n",
    "        \n",
    "        # Define the output file path\n",
    "        output_file_path = os.path.join(output_directory, filename)\n",
    "        \n",
    "        # Save the reduced image\n",
    "        reduced_img.save(output_file_path)\n",
    "        print(f'Saved {output_file_path}')"
   ]
  }
 ],
 "metadata": {
  "language_info": {
   "name": "python"
  }
 },
 "nbformat": 4,
 "nbformat_minor": 2
}
